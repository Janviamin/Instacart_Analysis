{
 "cells": [
  {
   "cell_type": "code",
   "execution_count": 9,
   "id": "3ea91706-78a9-4c5e-a4bc-7f8d05c99182",
   "metadata": {},
   "outputs": [],
   "source": [
    "# Import libraries\n",
    "import pandas as pd\n",
    "import numpy as np\n",
    "import os"
   ]
  },
  {
   "cell_type": "code",
   "execution_count": 10,
   "id": "d7c74ef9-8a48-4064-a034-2019317e0d98",
   "metadata": {},
   "outputs": [],
   "source": [
    "x = 2"
   ]
  },
  {
   "cell_type": "code",
   "execution_count": 14,
   "id": "668dcaa3-b71d-4bd8-a011-cba8f5538b85",
   "metadata": {},
   "outputs": [
    {
     "data": {
      "text/plain": [
       "2"
      ]
     },
     "execution_count": 14,
     "metadata": {},
     "output_type": "execute_result"
    }
   ],
   "source": [
    "x"
   ]
  },
  {
   "cell_type": "code",
   "execution_count": 16,
   "id": "cb78568a-4903-4b08-9d5f-2e36f6f5c77a",
   "metadata": {},
   "outputs": [
    {
     "name": "stdout",
     "output_type": "stream",
     "text": [
      "2\n"
     ]
    }
   ],
   "source": [
    "print(x)"
   ]
  },
  {
   "cell_type": "code",
   "execution_count": 18,
   "id": "41d21759-3591-4843-843b-e3eaf64f4681",
   "metadata": {},
   "outputs": [
    {
     "data": {
      "text/plain": [
       "int"
      ]
     },
     "execution_count": 18,
     "metadata": {},
     "output_type": "execute_result"
    }
   ],
   "source": [
    "type(x)"
   ]
  },
  {
   "cell_type": "code",
   "execution_count": 20,
   "id": "e305cbb4-c2ab-4d62-afc4-c9b8c0d8df43",
   "metadata": {},
   "outputs": [],
   "source": [
    "y = 5.678"
   ]
  },
  {
   "cell_type": "code",
   "execution_count": 22,
   "id": "87ae9992-6d5a-4aef-a526-a772f366f0de",
   "metadata": {},
   "outputs": [
    {
     "data": {
      "text/plain": [
       "float"
      ]
     },
     "execution_count": 22,
     "metadata": {},
     "output_type": "execute_result"
    }
   ],
   "source": [
    "type(y)"
   ]
  },
  {
   "cell_type": "code",
   "execution_count": 24,
   "id": "091122d4-980f-4d5e-8a73-ef95a53575ec",
   "metadata": {},
   "outputs": [
    {
     "data": {
      "text/plain": [
       "6"
      ]
     },
     "execution_count": 24,
     "metadata": {},
     "output_type": "execute_result"
    }
   ],
   "source": [
    "x+4"
   ]
  },
  {
   "cell_type": "code",
   "execution_count": 26,
   "id": "6ae16f65-0c2a-4ef4-8b09-6e2876e7a68a",
   "metadata": {},
   "outputs": [
    {
     "data": {
      "text/plain": [
       "7.678"
      ]
     },
     "execution_count": 26,
     "metadata": {},
     "output_type": "execute_result"
    }
   ],
   "source": [
    "x+y\n"
   ]
  },
  {
   "cell_type": "code",
   "execution_count": 44,
   "id": "bb8d140e-44a1-4e2f-98e8-519cb0d1ebe6",
   "metadata": {},
   "outputs": [
    {
     "data": {
      "text/plain": [
       "str"
      ]
     },
     "execution_count": 44,
     "metadata": {},
     "output_type": "execute_result"
    }
   ],
   "source": [
    "type('mania')"
   ]
  },
  {
   "cell_type": "code",
   "execution_count": 54,
   "id": "41d630b1-4690-4cf8-8edf-d50a6a13ce93",
   "metadata": {},
   "outputs": [
    {
     "name": "stdout",
     "output_type": "stream",
     "text": [
      "Hello, \n"
     ]
    }
   ],
   "source": [
    "a = \"Hello, \"\n",
    "print(a)"
   ]
  },
  {
   "cell_type": "code",
   "execution_count": 50,
   "id": "0cc365cf-d383-423c-879a-9baf97d4eec5",
   "metadata": {},
   "outputs": [],
   "source": [
    "b = \"Marley\""
   ]
  },
  {
   "cell_type": "code",
   "execution_count": 56,
   "id": "2e4ab513-2c7f-4d23-87c0-b2274f077242",
   "metadata": {},
   "outputs": [
    {
     "data": {
      "text/plain": [
       "'Hello, Marley'"
      ]
     },
     "execution_count": 56,
     "metadata": {},
     "output_type": "execute_result"
    }
   ],
   "source": [
    "a + b"
   ]
  },
  {
   "cell_type": "code",
   "execution_count": 60,
   "id": "a861844d-0d8c-460a-b2c8-5e52d4826565",
   "metadata": {},
   "outputs": [
    {
     "data": {
      "text/plain": [
       "100"
      ]
     },
     "execution_count": 60,
     "metadata": {},
     "output_type": "execute_result"
    }
   ],
   "source": [
    "50 + 50"
   ]
  },
  {
   "cell_type": "code",
   "execution_count": 70,
   "id": "1bc01f81-e6eb-4f3c-82a3-743c93d3278a",
   "metadata": {},
   "outputs": [],
   "source": [
    "c = 49"
   ]
  },
  {
   "cell_type": "code",
   "execution_count": 76,
   "id": "920cb17f-2823-4246-a6a0-d1558ce32178",
   "metadata": {},
   "outputs": [],
   "source": [
    "d = 51"
   ]
  },
  {
   "cell_type": "code",
   "execution_count": 78,
   "id": "b3df41f6-d69b-487b-ba07-8bbd07987f54",
   "metadata": {},
   "outputs": [
    {
     "data": {
      "text/plain": [
       "100"
      ]
     },
     "execution_count": 78,
     "metadata": {},
     "output_type": "execute_result"
    }
   ],
   "source": [
    "c+d"
   ]
  },
  {
   "cell_type": "code",
   "execution_count": 80,
   "id": "08e3c021-0b6d-4143-8899-b1448e3db862",
   "metadata": {},
   "outputs": [],
   "source": [
    "s1 = 150"
   ]
  },
  {
   "cell_type": "code",
   "execution_count": 82,
   "id": "f5fcdc4a-8af2-433b-9430-68897c781539",
   "metadata": {},
   "outputs": [],
   "source": [
    "s2 = 50"
   ]
  },
  {
   "cell_type": "code",
   "execution_count": 84,
   "id": "4331ffc8-d4d5-43b6-bc6a-6ee834b72e34",
   "metadata": {},
   "outputs": [
    {
     "data": {
      "text/plain": [
       "100"
      ]
     },
     "execution_count": 84,
     "metadata": {},
     "output_type": "execute_result"
    }
   ],
   "source": [
    "s1 - s2"
   ]
  },
  {
   "cell_type": "code",
   "execution_count": 86,
   "id": "aeeaa423-40de-46a3-a7d5-7a931fca2d37",
   "metadata": {},
   "outputs": [],
   "source": [
    "M1 = 20"
   ]
  },
  {
   "cell_type": "code",
   "execution_count": 88,
   "id": "313dc05b-35e0-4801-bdba-f1f4f33b0a43",
   "metadata": {},
   "outputs": [],
   "source": [
    "M2 = 5"
   ]
  },
  {
   "cell_type": "code",
   "execution_count": 90,
   "id": "fb2c8be9-8efc-4226-87d5-7571c6249364",
   "metadata": {},
   "outputs": [
    {
     "data": {
      "text/plain": [
       "100"
      ]
     },
     "execution_count": 90,
     "metadata": {},
     "output_type": "execute_result"
    }
   ],
   "source": [
    "M1*M2"
   ]
  },
  {
   "cell_type": "code",
   "execution_count": 92,
   "id": "fd22e3d7-937c-4fca-a002-065457e11640",
   "metadata": {},
   "outputs": [],
   "source": [
    "F1 = 52.125"
   ]
  },
  {
   "cell_type": "code",
   "execution_count": 94,
   "id": "97bbf07b-b546-4473-a5b9-54f2969c23e0",
   "metadata": {},
   "outputs": [],
   "source": [
    "F2 = 64.44"
   ]
  },
  {
   "cell_type": "code",
   "execution_count": 96,
   "id": "bcb8f1c0-975c-4628-8324-2f546e625272",
   "metadata": {},
   "outputs": [
    {
     "data": {
      "text/plain": [
       "0.8088919925512105"
      ]
     },
     "execution_count": 96,
     "metadata": {},
     "output_type": "execute_result"
    }
   ],
   "source": [
    "F1/F2"
   ]
  },
  {
   "cell_type": "code",
   "execution_count": 98,
   "id": "e7fde101-2abd-42a3-9780-e88b86ae510d",
   "metadata": {},
   "outputs": [],
   "source": [
    "H =\"HEL\""
   ]
  },
  {
   "cell_type": "code",
   "execution_count": 100,
   "id": "5b166abc-a4c9-4c1f-bbef-671c4a9dbb95",
   "metadata": {},
   "outputs": [],
   "source": [
    "H2 = \"LO\""
   ]
  },
  {
   "cell_type": "code",
   "execution_count": 102,
   "id": "490f9c7f-2637-479c-a5f0-92758d8f1846",
   "metadata": {},
   "outputs": [
    {
     "data": {
      "text/plain": [
       "'HELLO'"
      ]
     },
     "execution_count": 102,
     "metadata": {},
     "output_type": "execute_result"
    }
   ],
   "source": [
    "H+H2"
   ]
  },
  {
   "cell_type": "code",
   "execution_count": 112,
   "id": "facbc1cc-fa97-4b2d-9423-c00a7df4e741",
   "metadata": {},
   "outputs": [],
   "source": [
    "Str1 = \"Today is \""
   ]
  },
  {
   "cell_type": "code",
   "execution_count": 123,
   "id": "e1b9b440-bb1e-4d40-9839-933d15f4b165",
   "metadata": {},
   "outputs": [],
   "source": [
    "Str2 = \"Friday \""
   ]
  },
  {
   "cell_type": "code",
   "execution_count": 114,
   "id": "9c349d9d-cf70-4971-8033-31deec2742f6",
   "metadata": {},
   "outputs": [
    {
     "data": {
      "text/plain": [
       "'Today is Friday'"
      ]
     },
     "execution_count": 114,
     "metadata": {},
     "output_type": "execute_result"
    }
   ],
   "source": [
    "Str1+Str2"
   ]
  },
  {
   "cell_type": "code",
   "execution_count": 116,
   "id": "e2046c2c-0e02-4e44-91a4-137641730933",
   "metadata": {},
   "outputs": [],
   "source": [
    "Str3 = \"is Weekend\""
   ]
  },
  {
   "cell_type": "code",
   "execution_count": 125,
   "id": "948a9e65-9ec7-47d3-b36d-3ab7f502d8b1",
   "metadata": {},
   "outputs": [
    {
     "data": {
      "text/plain": [
       "'Friday Friday is Weekend'"
      ]
     },
     "execution_count": 125,
     "metadata": {},
     "output_type": "execute_result"
    }
   ],
   "source": [
    "(Str2*2) + Str3"
   ]
  },
  {
   "cell_type": "code",
   "execution_count": null,
   "id": "00eacd44-f150-4670-95c4-cfdab552206a",
   "metadata": {},
   "outputs": [],
   "source": []
  }
 ],
 "metadata": {
  "kernelspec": {
   "display_name": "Python 3 (ipykernel)",
   "language": "python",
   "name": "python3"
  },
  "language_info": {
   "codemirror_mode": {
    "name": "ipython",
    "version": 3
   },
   "file_extension": ".py",
   "mimetype": "text/x-python",
   "name": "python",
   "nbconvert_exporter": "python",
   "pygments_lexer": "ipython3",
   "version": "3.12.4"
  }
 },
 "nbformat": 4,
 "nbformat_minor": 5
}
