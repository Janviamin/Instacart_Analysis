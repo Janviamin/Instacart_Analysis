{
 "cells": [
  {
   "cell_type": "code",
   "execution_count": 1,
   "id": "e656d711-13e2-43b9-b9c6-d7bbdb6878dd",
   "metadata": {},
   "outputs": [],
   "source": [
    "import pandas as pd\n",
    "import numpy as np\n",
    "import os\n"
   ]
  },
  {
   "cell_type": "code",
   "execution_count": 2,
   "id": "841a87c3-6abe-4536-8b8f-76b987b9b0cd",
   "metadata": {},
   "outputs": [],
   "source": [
    "path = r'C:\\Users\\Janvi\\Documents\\09-2024 Instacart Basket Analysis'"
   ]
  },
  {
   "cell_type": "code",
   "execution_count": 3,
   "id": "59a4205f-5206-4154-ba00-54975ee216f7",
   "metadata": {},
   "outputs": [],
   "source": [
    "df_ords_prods_merge = pd.read_pickle(r'C:\\Users\\Janvi\\Documents\\09-2024 Instacart Basket Analysis\\02 Data\\Prepared Data\\ords_prods_merge.pkl')"
   ]
  },
  {
   "cell_type": "code",
   "execution_count": 4,
   "id": "5715d96a-3532-4dda-8efe-15a441b719db",
   "metadata": {},
   "outputs": [
    {
     "data": {
      "text/plain": [
       "(32404859, 15)"
      ]
     },
     "execution_count": 4,
     "metadata": {},
     "output_type": "execute_result"
    }
   ],
   "source": [
    "df_ords_prods_merge.shape"
   ]
  },
  {
   "cell_type": "code",
   "execution_count": 5,
   "id": "6db28f48-7f83-4c2a-ae19-c6ba6c46c4df",
   "metadata": {},
   "outputs": [
    {
     "name": "stdout",
     "output_type": "stream",
     "text": [
      "<class 'pandas.core.frame.DataFrame'>\n",
      "RangeIndex: 32404859 entries, 0 to 32404858\n",
      "Data columns (total 15 columns):\n",
      " #   Column                  Dtype   \n",
      "---  ------                  -----   \n",
      " 0   product_id              int64   \n",
      " 1   product_name            object  \n",
      " 2   aisle_id                int64   \n",
      " 3   department_id           int64   \n",
      " 4   prices                  float64 \n",
      " 5   order_id                int64   \n",
      " 6   user_id                 int64   \n",
      " 7   eval_set                object  \n",
      " 8   order_number            int64   \n",
      " 9   order_dow               int64   \n",
      " 10  order_hour_of_day       int64   \n",
      " 11  days_since_prior_order  float64 \n",
      " 12  add_to_cart_order       int64   \n",
      " 13  reordered               int64   \n",
      " 14  _merge                  category\n",
      "dtypes: category(1), float64(2), int64(10), object(2)\n",
      "memory usage: 3.4+ GB\n"
     ]
    }
   ],
   "source": [
    "df_ords_prods_merge.info()"
   ]
  },
  {
   "cell_type": "code",
   "execution_count": 6,
   "id": "cf27b8e0-3cdb-4dfd-9d00-f10452b2fe33",
   "metadata": {},
   "outputs": [],
   "source": [
    "df_ords_prods_merge = df_ords_prods_merge[:1000000]"
   ]
  },
  {
   "cell_type": "code",
   "execution_count": 7,
   "id": "243e6359-175e-4b22-9f30-f55dd946b5eb",
   "metadata": {},
   "outputs": [],
   "source": [
    "def price_label(row):\n",
    "    if row['prices'] <=5 :\n",
    "        return 'Low-range product'\n",
    "    elif (row['prices']>5) and (row['prices']<=15):\n",
    "        return 'mid-range product'\n",
    "    elif row['prices']>15:\n",
    "        return 'high-range product'\n",
    "    else: return 'Not enough data'"
   ]
  },
  {
   "cell_type": "code",
   "execution_count": 8,
   "id": "21239ca2-da33-4375-b3ab-486d16db791d",
   "metadata": {},
   "outputs": [],
   "source": [
    "df_ords_prods_merge['price_range'] = df_ords_prods_merge.apply(price_label, axis=1)"
   ]
  },
  {
   "cell_type": "code",
   "execution_count": 9,
   "id": "dde055c1-6726-478a-824b-a51d4374eb74",
   "metadata": {},
   "outputs": [
    {
     "data": {
      "text/plain": [
       "price_range\n",
       "mid-range product     652638\n",
       "Low-range product     338018\n",
       "high-range product      9344\n",
       "Name: count, dtype: int64"
      ]
     },
     "execution_count": 9,
     "metadata": {},
     "output_type": "execute_result"
    }
   ],
   "source": [
    "df_ords_prods_merge['price_range'].value_counts(dropna = False)"
   ]
  },
  {
   "cell_type": "code",
   "execution_count": 10,
   "id": "2e5edf6b-a434-4a4d-9562-e291ec13fc6f",
   "metadata": {},
   "outputs": [
    {
     "data": {
      "text/plain": [
       "(1000000, 16)"
      ]
     },
     "execution_count": 10,
     "metadata": {},
     "output_type": "execute_result"
    }
   ],
   "source": [
    "df_ords_prods_merge.shape"
   ]
  },
  {
   "cell_type": "code",
   "execution_count": 11,
   "id": "5261266d-2b1b-467a-98e7-2fbc5885aab5",
   "metadata": {},
   "outputs": [
    {
     "data": {
      "text/plain": [
       "24.5"
      ]
     },
     "execution_count": 11,
     "metadata": {},
     "output_type": "execute_result"
    }
   ],
   "source": [
    "df_ords_prods_merge['prices'].max()"
   ]
  },
  {
   "cell_type": "code",
   "execution_count": 12,
   "id": "1d7f43a8-f04d-4caf-bc6d-dcd2f0957fb7",
   "metadata": {},
   "outputs": [
    {
     "name": "stdout",
     "output_type": "stream",
     "text": [
      "my age is 30\n",
      "my age is 31\n",
      "my age is 32\n",
      "my age is 33\n",
      "my age is 34\n",
      "my age is 35\n",
      "my age is 36\n",
      "my age is 37\n",
      "my age is 38\n",
      "my age is 39\n",
      "my age is 40\n",
      "my age is 41\n",
      "my age is 42\n",
      "my age is 43\n",
      "my age is 44\n"
     ]
    }
   ],
   "source": [
    "for x in range(30,45):\n",
    "    print(\"my age is %d\" %(x))"
   ]
  },
  {
   "cell_type": "code",
   "execution_count": 13,
   "id": "1440e74c-3899-404e-9d72-7d89ea324601",
   "metadata": {},
   "outputs": [
    {
     "data": {
      "text/plain": [
       "order_dow\n",
       "0    183956\n",
       "1    174070\n",
       "6    137125\n",
       "5    132019\n",
       "2    132015\n",
       "3    120883\n",
       "4    119932\n",
       "Name: count, dtype: int64"
      ]
     },
     "execution_count": 13,
     "metadata": {},
     "output_type": "execute_result"
    }
   ],
   "source": [
    "df_ords_prods_merge['order_dow'].value_counts(dropna = False)"
   ]
  },
  {
   "cell_type": "code",
   "execution_count": 28,
   "id": "a7ce50a2-34f9-4be5-9e4c-cba55a1b0a74",
   "metadata": {},
   "outputs": [],
   "source": [
    "df_ords_prods_merge.loc[df_ords_prods_merge['prices'] <= 5, 'price_range_loc'] = 'Low_range_product'"
   ]
  },
  {
   "cell_type": "code",
   "execution_count": 32,
   "id": "483ec551-0fbc-4429-a3f2-8bd3285c5b39",
   "metadata": {},
   "outputs": [],
   "source": [
    "df_ords_prods_merge.loc[(df_ords_prods_merge['prices'] <= 5) & (df_ords_prods_merge['prices'] > 15), 'price_range_loc'] = 'Mid_range_product'"
   ]
  },
  {
   "cell_type": "code",
   "execution_count": 34,
   "id": "f3c8f5f4-f03f-4dd2-a392-47c83504f37a",
   "metadata": {},
   "outputs": [],
   "source": [
    "df_ords_prods_merge.loc[df_ords_prods_merge['prices'] > 15, 'price_range_loc'] = 'High_range_product'"
   ]
  },
  {
   "cell_type": "code",
   "execution_count": 42,
   "id": "15d2f235-1ced-4831-a241-2fa882154419",
   "metadata": {},
   "outputs": [
    {
     "data": {
      "text/plain": [
       "price_range_loc\n",
       "NaN                   652638\n",
       "Low_range_product     338018\n",
       "High_range_product      9344\n",
       "Name: count, dtype: int64"
      ]
     },
     "execution_count": 42,
     "metadata": {},
     "output_type": "execute_result"
    }
   ],
   "source": [
    "df_ords_prods_merge['price_range_loc'].value_counts(dropna = False)"
   ]
  },
  {
   "cell_type": "code",
   "execution_count": 40,
   "id": "d9b295b9-ab92-4b9d-a46d-58934dbcc440",
   "metadata": {},
   "outputs": [
    {
     "data": {
      "text/plain": [
       "order_dow\n",
       "0    183956\n",
       "1    174070\n",
       "6    137125\n",
       "5    132019\n",
       "2    132015\n",
       "3    120883\n",
       "4    119932\n",
       "Name: count, dtype: int64"
      ]
     },
     "execution_count": 40,
     "metadata": {},
     "output_type": "execute_result"
    }
   ],
   "source": [
    "df_ords_prods_merge['order_dow'].value_counts(dropna = False)"
   ]
  },
  {
   "cell_type": "code",
   "execution_count": 60,
   "id": "18d98fbc-d515-4fe8-ab9b-1a175b24b7cd",
   "metadata": {},
   "outputs": [],
   "source": [
    "result = []\n",
    "\n",
    "for value in df_ords_prods_merge[\"order_dow\"]:\n",
    "  if value == 0 or value == 1:\n",
    "    result.append(\"Busiest day\")\n",
    "  elif value == 4 or value == 3:\n",
    "    result.append(\"Least busy\")\n",
    "  else:\n",
    "    result.append(\"Regularly busy\")"
   ]
  },
  {
   "cell_type": "code",
   "execution_count": 62,
   "id": "1909cd32-e782-485b-be03-c585f5e5fa3a",
   "metadata": {},
   "outputs": [],
   "source": [
    "df_ords_prods_merge['Busiest_day'] = result"
   ]
  },
  {
   "cell_type": "code",
   "execution_count": 64,
   "id": "73731a41-31da-4fd7-8eed-94d47db1d4bf",
   "metadata": {},
   "outputs": [
    {
     "data": {
      "text/plain": [
       "Busiest_day\n",
       "Regularly busy    401159\n",
       "Busiest day       358026\n",
       "Least busy        240815\n",
       "Name: count, dtype: int64"
      ]
     },
     "execution_count": 64,
     "metadata": {},
     "output_type": "execute_result"
    }
   ],
   "source": [
    "df_ords_prods_merge['Busiest_day'].value_counts(dropna = False)"
   ]
  },
  {
   "cell_type": "code",
   "execution_count": 66,
   "id": "f4663bfb-96b2-457e-8ff5-7132511e16b8",
   "metadata": {},
   "outputs": [],
   "source": [
    "#finding busiest hours"
   ]
  },
  {
   "cell_type": "code",
   "execution_count": 70,
   "id": "a676545d-7309-48ff-a9c4-8b2548778fae",
   "metadata": {},
   "outputs": [
    {
     "data": {
      "text/plain": [
       "order_hour_of_day\n",
       "10    86241\n",
       "11    84780\n",
       "14    83070\n",
       "13    82272\n",
       "15    81234\n",
       "12    80541\n",
       "16    77784\n",
       "9     76870\n",
       "17    64196\n",
       "8     53294\n",
       "18    50082\n",
       "19    38584\n",
       "20    30367\n",
       "7     27542\n",
       "21    24338\n",
       "22    19126\n",
       "23    12156\n",
       "6      9090\n",
       "0      6560\n",
       "1      3576\n",
       "5      2831\n",
       "2      2174\n",
       "3      1653\n",
       "4      1639\n",
       "Name: count, dtype: int64"
      ]
     },
     "execution_count": 70,
     "metadata": {},
     "output_type": "execute_result"
    }
   ],
   "source": [
    "df_ords_prods_merge['order_hour_of_day'].value_counts(dropna = False)"
   ]
  },
  {
   "cell_type": "code",
   "execution_count": 80,
   "id": "e1149242-e80c-48ca-83af-a74dca127fb9",
   "metadata": {},
   "outputs": [],
   "source": [
    "Hour_result = []\n",
    "\n",
    "for value in df_ords_prods_merge[\"order_hour_of_day\"]:\n",
    "  if value == 10 or value == 11:\n",
    "    Hour_result.append(\"Most orders\")\n",
    "  elif value == 4 or value == 3:\n",
    "    Hour_result.append(\"Fewest orders\")\n",
    "  else:\n",
    "    Hour_result.append(\"Average orders\")"
   ]
  },
  {
   "cell_type": "code",
   "execution_count": 82,
   "id": "9a37863c-f3f7-4d2b-91f7-1c3048d049ee",
   "metadata": {},
   "outputs": [],
   "source": [
    "df_ords_prods_merge['busiest_period_of_day'] = Hour_result"
   ]
  },
  {
   "cell_type": "code",
   "execution_count": 84,
   "id": "be10819f-3e2b-446e-9a14-f44fdfffd8e7",
   "metadata": {},
   "outputs": [
    {
     "data": {
      "text/plain": [
       "busiest_period_of_day\n",
       "Average orders    825687\n",
       "Most orders       171021\n",
       "Fewest orders       3292\n",
       "Name: count, dtype: int64"
      ]
     },
     "execution_count": 84,
     "metadata": {},
     "output_type": "execute_result"
    }
   ],
   "source": [
    "df_ords_prods_merge['busiest_period_of_day'].value_counts(dropna = False)"
   ]
  },
  {
   "cell_type": "code",
   "execution_count": 86,
   "id": "5b69133b-466a-4866-b7f8-9990e51a1e42",
   "metadata": {},
   "outputs": [],
   "source": [
    "df_ords_prods_merge.to_pickle(os.path.join(path, '02 Data','Prepared Data', 'merge_loop.pkl'))"
   ]
  },
  {
   "cell_type": "code",
   "execution_count": null,
   "id": "586623c6-7a01-4d37-be70-49590ed569f2",
   "metadata": {},
   "outputs": [],
   "source": []
  }
 ],
 "metadata": {
  "kernelspec": {
   "display_name": "Python 3 (ipykernel)",
   "language": "python",
   "name": "python3"
  },
  "language_info": {
   "codemirror_mode": {
    "name": "ipython",
    "version": 3
   },
   "file_extension": ".py",
   "mimetype": "text/x-python",
   "name": "python",
   "nbconvert_exporter": "python",
   "pygments_lexer": "ipython3",
   "version": "3.12.4"
  }
 },
 "nbformat": 4,
 "nbformat_minor": 5
}
