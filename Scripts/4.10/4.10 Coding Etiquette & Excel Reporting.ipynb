{
 "cells": [
  {
   "cell_type": "markdown",
   "id": "248dc4ee-ece1-4669-bcac-391df1dea64e",
   "metadata": {},
   "source": [
    "# 1. Importing Libraries"
   ]
  },
  {
   "cell_type": "code",
   "execution_count": 2,
   "id": "aa07ee1c-95dd-49cf-87c4-4e9c99fb947e",
   "metadata": {},
   "outputs": [],
   "source": [
    "#importing libraries\n",
    "import pandas as pd\n",
    "import numpy as np\n",
    "import os\n",
    "import matplotlib.pyplot as plt\n",
    "import seaborn as sns\n",
    "import scipy\n"
   ]
  },
  {
   "cell_type": "code",
   "execution_count": 3,
   "id": "9d4af927-70de-4cac-ae24-f0df54b2b8e9",
   "metadata": {},
   "outputs": [],
   "source": [
    "# Importing Dataset"
   ]
  },
  {
   "cell_type": "code",
   "execution_count": 4,
   "id": "7d332b49-2c15-4e0a-9b26-8579301d691d",
   "metadata": {},
   "outputs": [],
   "source": [
    "path = r'C:\\Users\\Janvi\\Documents\\09-2024 Instacart Basket Analysis'"
   ]
  },
  {
   "cell_type": "code",
   "execution_count": 5,
   "id": "a96f0f78-f118-433a-9a42-fc514d677112",
   "metadata": {},
   "outputs": [],
   "source": [
    "ords_prods_merge = pd.read_pickle(os.path.join(path, '02 Data', 'Prepared Data', '9_viz.pkl'))"
   ]
  },
  {
   "cell_type": "markdown",
   "id": "bace2b33-71d7-475d-a44f-ad475744625b",
   "metadata": {},
   "source": [
    "# 2. Addressing the PII data"
   ]
  },
  {
   "cell_type": "code",
   "execution_count": 7,
   "id": "755bfe57-bc43-4d83-831d-7505d18bad57",
   "metadata": {},
   "outputs": [],
   "source": [
    "#dropping PII columns\n",
    "ords_prods_merge = ords_prods_merge.drop(['firstname', 'surname'], axis=1)"
   ]
  },
  {
   "cell_type": "code",
   "execution_count": 8,
   "id": "28c426e1-e1bb-434e-ae27-d745b3ec139f",
   "metadata": {},
   "outputs": [
    {
     "data": {
      "text/html": [
       "<div>\n",
       "<style scoped>\n",
       "    .dataframe tbody tr th:only-of-type {\n",
       "        vertical-align: middle;\n",
       "    }\n",
       "\n",
       "    .dataframe tbody tr th {\n",
       "        vertical-align: top;\n",
       "    }\n",
       "\n",
       "    .dataframe thead th {\n",
       "        text-align: right;\n",
       "    }\n",
       "</style>\n",
       "<table border=\"1\" class=\"dataframe\">\n",
       "  <thead>\n",
       "    <tr style=\"text-align: right;\">\n",
       "      <th></th>\n",
       "      <th>product_id</th>\n",
       "      <th>product_name</th>\n",
       "      <th>aisle_id</th>\n",
       "      <th>department_id</th>\n",
       "      <th>prices</th>\n",
       "      <th>order_id</th>\n",
       "      <th>user_id</th>\n",
       "      <th>eval_set</th>\n",
       "      <th>order_number</th>\n",
       "      <th>order_dow</th>\n",
       "      <th>...</th>\n",
       "      <th>spending_flag</th>\n",
       "      <th>median_days_between_orders</th>\n",
       "      <th>order_frequencey</th>\n",
       "      <th>Gender</th>\n",
       "      <th>state</th>\n",
       "      <th>Age</th>\n",
       "      <th>date_joined</th>\n",
       "      <th>n_dependants</th>\n",
       "      <th>family_status</th>\n",
       "      <th>income</th>\n",
       "    </tr>\n",
       "  </thead>\n",
       "  <tbody>\n",
       "    <tr>\n",
       "      <th>0</th>\n",
       "      <td>1</td>\n",
       "      <td>Chocolate Sandwich Cookies</td>\n",
       "      <td>61</td>\n",
       "      <td>19</td>\n",
       "      <td>5.8</td>\n",
       "      <td>3139998</td>\n",
       "      <td>138</td>\n",
       "      <td>prior</td>\n",
       "      <td>28</td>\n",
       "      <td>6</td>\n",
       "      <td>...</td>\n",
       "      <td>High spender</td>\n",
       "      <td>6.5</td>\n",
       "      <td>Frequent customer</td>\n",
       "      <td>Male</td>\n",
       "      <td>Minnesota</td>\n",
       "      <td>81</td>\n",
       "      <td>8/1/2019</td>\n",
       "      <td>1</td>\n",
       "      <td>married</td>\n",
       "      <td>49620</td>\n",
       "    </tr>\n",
       "    <tr>\n",
       "      <th>1</th>\n",
       "      <td>1</td>\n",
       "      <td>Chocolate Sandwich Cookies</td>\n",
       "      <td>61</td>\n",
       "      <td>19</td>\n",
       "      <td>5.8</td>\n",
       "      <td>1977647</td>\n",
       "      <td>138</td>\n",
       "      <td>prior</td>\n",
       "      <td>30</td>\n",
       "      <td>6</td>\n",
       "      <td>...</td>\n",
       "      <td>High spender</td>\n",
       "      <td>6.5</td>\n",
       "      <td>Frequent customer</td>\n",
       "      <td>Male</td>\n",
       "      <td>Minnesota</td>\n",
       "      <td>81</td>\n",
       "      <td>8/1/2019</td>\n",
       "      <td>1</td>\n",
       "      <td>married</td>\n",
       "      <td>49620</td>\n",
       "    </tr>\n",
       "    <tr>\n",
       "      <th>2</th>\n",
       "      <td>1</td>\n",
       "      <td>Chocolate Sandwich Cookies</td>\n",
       "      <td>61</td>\n",
       "      <td>19</td>\n",
       "      <td>5.8</td>\n",
       "      <td>389851</td>\n",
       "      <td>709</td>\n",
       "      <td>prior</td>\n",
       "      <td>2</td>\n",
       "      <td>0</td>\n",
       "      <td>...</td>\n",
       "      <td>Low spender</td>\n",
       "      <td>7.0</td>\n",
       "      <td>Frequent customer</td>\n",
       "      <td>Female</td>\n",
       "      <td>Vermont</td>\n",
       "      <td>66</td>\n",
       "      <td>6/16/2018</td>\n",
       "      <td>2</td>\n",
       "      <td>married</td>\n",
       "      <td>158302</td>\n",
       "    </tr>\n",
       "    <tr>\n",
       "      <th>3</th>\n",
       "      <td>1</td>\n",
       "      <td>Chocolate Sandwich Cookies</td>\n",
       "      <td>61</td>\n",
       "      <td>19</td>\n",
       "      <td>5.8</td>\n",
       "      <td>652770</td>\n",
       "      <td>764</td>\n",
       "      <td>prior</td>\n",
       "      <td>1</td>\n",
       "      <td>3</td>\n",
       "      <td>...</td>\n",
       "      <td>Low spender</td>\n",
       "      <td>9.0</td>\n",
       "      <td>Frequent customer</td>\n",
       "      <td>Female</td>\n",
       "      <td>Wisconsin</td>\n",
       "      <td>40</td>\n",
       "      <td>2/9/2020</td>\n",
       "      <td>3</td>\n",
       "      <td>married</td>\n",
       "      <td>31308</td>\n",
       "    </tr>\n",
       "    <tr>\n",
       "      <th>4</th>\n",
       "      <td>1</td>\n",
       "      <td>Chocolate Sandwich Cookies</td>\n",
       "      <td>61</td>\n",
       "      <td>19</td>\n",
       "      <td>5.8</td>\n",
       "      <td>1813452</td>\n",
       "      <td>764</td>\n",
       "      <td>prior</td>\n",
       "      <td>3</td>\n",
       "      <td>4</td>\n",
       "      <td>...</td>\n",
       "      <td>Low spender</td>\n",
       "      <td>9.0</td>\n",
       "      <td>Frequent customer</td>\n",
       "      <td>Female</td>\n",
       "      <td>Wisconsin</td>\n",
       "      <td>40</td>\n",
       "      <td>2/9/2020</td>\n",
       "      <td>3</td>\n",
       "      <td>married</td>\n",
       "      <td>31308</td>\n",
       "    </tr>\n",
       "  </tbody>\n",
       "</table>\n",
       "<p>5 rows × 32 columns</p>\n",
       "</div>"
      ],
      "text/plain": [
       "   product_id                product_name  aisle_id  department_id  prices  \\\n",
       "0           1  Chocolate Sandwich Cookies        61             19     5.8   \n",
       "1           1  Chocolate Sandwich Cookies        61             19     5.8   \n",
       "2           1  Chocolate Sandwich Cookies        61             19     5.8   \n",
       "3           1  Chocolate Sandwich Cookies        61             19     5.8   \n",
       "4           1  Chocolate Sandwich Cookies        61             19     5.8   \n",
       "\n",
       "   order_id  user_id eval_set  order_number  order_dow  ...  spending_flag  \\\n",
       "0   3139998      138    prior            28          6  ...   High spender   \n",
       "1   1977647      138    prior            30          6  ...   High spender   \n",
       "2    389851      709    prior             2          0  ...    Low spender   \n",
       "3    652770      764    prior             1          3  ...    Low spender   \n",
       "4   1813452      764    prior             3          4  ...    Low spender   \n",
       "\n",
       "   median_days_between_orders   order_frequencey  Gender      state Age  \\\n",
       "0                         6.5  Frequent customer    Male  Minnesota  81   \n",
       "1                         6.5  Frequent customer    Male  Minnesota  81   \n",
       "2                         7.0  Frequent customer  Female    Vermont  66   \n",
       "3                         9.0  Frequent customer  Female  Wisconsin  40   \n",
       "4                         9.0  Frequent customer  Female  Wisconsin  40   \n",
       "\n",
       "  date_joined n_dependants family_status  income  \n",
       "0    8/1/2019            1       married   49620  \n",
       "1    8/1/2019            1       married   49620  \n",
       "2   6/16/2018            2       married  158302  \n",
       "3    2/9/2020            3       married   31308  \n",
       "4    2/9/2020            3       married   31308  \n",
       "\n",
       "[5 rows x 32 columns]"
      ]
     },
     "execution_count": 8,
     "metadata": {},
     "output_type": "execute_result"
    }
   ],
   "source": [
    "ords_prods_merge.head()"
   ]
  },
  {
   "cell_type": "markdown",
   "id": "20379974-e159-484b-8c0f-844fbd0df2e5",
   "metadata": {},
   "source": [
    "# 3. comparing customer's behavior in different geographic areas"
   ]
  },
  {
   "cell_type": "code",
   "execution_count": 10,
   "id": "03eb12d2-7b84-4f05-96fb-29035bfdd25e",
   "metadata": {},
   "outputs": [],
   "source": [
    "# creating an array for the state\n",
    "region = []\n",
    "# creating a for loop for regions\n",
    "for state in ords_prods_merge[\"state\"]:\n",
    "    if state in ['Maine', 'New Hampshire', 'Vermont', 'Massachusetts', \n",
    "                 'Rhode Island', 'Connecticut', 'New York', 'Pennsylvania', \n",
    "                 'New Jersey']:\n",
    "        region.append(\"Northeast\")\n",
    "    elif state in ['Wisconsin', 'Michigan', 'Illinois', 'Indiana', 'Ohio', \n",
    "                   'North Dakota', 'South Dakota', 'Nebraska', 'Kansas', \n",
    "                   'Minnesota', 'Iowa', 'Missouri']:\n",
    "        region.append(\"Midwest\")\n",
    "    elif state in ['Delaware', 'Maryland', 'District of Columbia', 'Virginia', \n",
    "                   'West Virginia', 'North Carolina', 'South Carolina', 'Georgia', \n",
    "                   'Florida', 'Kentucky', 'Tennessee', 'Mississippi', 'Alabama', \n",
    "                   'Oklahoma', 'Texas', 'Arkansas', 'Louisiana']:\n",
    "        region.append(\"South\")\n",
    "    elif state in ['Idaho', 'Montana', 'Wyoming', 'Nevada', 'Utah', 'Colorado', \n",
    "                   'Arizona', 'New Mexico', 'Alaska', 'Washington', 'Oregon', \n",
    "                   'California', 'Hawaii']:\n",
    "        region.append(\"West\")\n",
    "    else:\n",
    "        region.append(\"Unknown\")\n"
   ]
  },
  {
   "cell_type": "code",
   "execution_count": 11,
   "id": "8651effb-9d90-4a26-b007-3ab92bbb74e6",
   "metadata": {},
   "outputs": [],
   "source": [
    "# adding the new region list as a column to the df\n",
    "ords_prods_merge['region'] = region"
   ]
  },
  {
   "cell_type": "markdown",
   "id": "144a9e86-4f40-4203-8213-d9546dc9563f",
   "metadata": {},
   "source": [
    "### checking customer's spending habits in different region"
   ]
  },
  {
   "cell_type": "code",
   "execution_count": 13,
   "id": "a9a77058-ca5d-4bfd-bbe7-12a3d164ee8d",
   "metadata": {},
   "outputs": [
    {
     "name": "stdout",
     "output_type": "stream",
     "text": [
      "\n",
      "Crosstab for distinct order_id level:\n",
      "spending_flag  High spender  Low spender\n",
      "region                                  \n",
      "Midwest                8430        27089\n",
      "Northeast              6354        20310\n",
      "South                 11983        38646\n",
      "West                   9290        29223\n"
     ]
    }
   ],
   "source": [
    "# Step 1: Distinct on user_id level\n",
    "df_distinct_user = ords_prods_merge.drop_duplicates(subset='user_id')\n",
    "\n",
    "# Crosstab for user_id level (Region vs Spending Flag)\n",
    "crosstab_user = pd.crosstab(df_distinct_user['region'], df_distinct_user['spending_flag'], dropna=False)\n",
    "\n",
    "# Display the crosstabs\n",
    "print(\"\\nCrosstab for distinct order_id level:\")\n",
    "print(crosstab_user)"
   ]
  },
  {
   "cell_type": "markdown",
   "id": "40e15039-0698-4118-a327-a0c6e8c90711",
   "metadata": {},
   "source": [
    "# 4. Creating flag for non-active customers"
   ]
  },
  {
   "cell_type": "code",
   "execution_count": 15,
   "id": "8c4b49b0-43f5-49d4-af39-90fe32ea36bf",
   "metadata": {},
   "outputs": [
    {
     "name": "stderr",
     "output_type": "stream",
     "text": [
      "C:\\Users\\Janvi\\AppData\\Local\\Temp\\ipykernel_4212\\1627641474.py:3: FutureWarning: The provided callable <function max at 0x0000023508607C40> is currently using SeriesGroupBy.max. In a future version of pandas, the provided callable will be used directly. To keep current behavior pass the string \"max\" instead.\n",
      "  ords_prods_merge['max_order'] = ords_prods_merge.groupby(['user_id'])['order_number'].transform(np.max)\n"
     ]
    }
   ],
   "source": [
    "# Creating the column holding maximum orders per user\n",
    "\n",
    "ords_prods_merge['max_order'] = ords_prods_merge.groupby(['user_id'])['order_number'].transform(np.max)"
   ]
  },
  {
   "cell_type": "code",
   "execution_count": 16,
   "id": "232e4fa7-3912-4d6a-870c-22519ef29ce0",
   "metadata": {},
   "outputs": [],
   "source": [
    "# Creating an exclusion flag for low-activity users who have less than 5 orders\n",
    "\n",
    "ords_prods_merge.loc[ords_prods_merge['max_order'] < 5, 'exclusion_flag'] = 'Low-activity customer'"
   ]
  },
  {
   "cell_type": "code",
   "execution_count": 17,
   "id": "7c07d19f-1b70-4734-8f35-0c8390eff121",
   "metadata": {},
   "outputs": [],
   "source": [
    "# Creating an exclusion flag for low-activity users who have equal and more than 5 orders\n",
    "\n",
    "ords_prods_merge.loc[ords_prods_merge['max_order'] >= 5, 'exclusion_flag'] = 'Regular-activity customer'"
   ]
  },
  {
   "cell_type": "code",
   "execution_count": 18,
   "id": "8caf17f7-1a1d-4efa-a2b5-f02021a942c7",
   "metadata": {},
   "outputs": [
    {
     "data": {
      "text/plain": [
       "exclusion_flag\n",
       "Regular-activity customer    921270\n",
       "Low-activity customer         78730\n",
       "Name: count, dtype: int64"
      ]
     },
     "execution_count": 18,
     "metadata": {},
     "output_type": "execute_result"
    }
   ],
   "source": [
    "ords_prods_merge['exclusion_flag'].value_counts()"
   ]
  },
  {
   "cell_type": "code",
   "execution_count": 19,
   "id": "7a0a9750-6da3-4f17-9258-06a6ffcd9684",
   "metadata": {},
   "outputs": [],
   "source": [
    "#cross referencing the results\n",
    "df = ords_prods_merge[ords_prods_merge['exclusion_flag'] != 'Low-activity customer']"
   ]
  },
  {
   "cell_type": "code",
   "execution_count": 20,
   "id": "a94aadad-de59-4579-80d1-57370c89d135",
   "metadata": {},
   "outputs": [
    {
     "data": {
      "text/plain": [
       "exclusion_flag\n",
       "Regular-activity customer    921270\n",
       "Name: count, dtype: int64"
      ]
     },
     "execution_count": 20,
     "metadata": {},
     "output_type": "execute_result"
    }
   ],
   "source": [
    "df['exclusion_flag'].value_counts()"
   ]
  },
  {
   "cell_type": "markdown",
   "id": "a9012efc-69de-4f71-8d44-c350622e490b",
   "metadata": {},
   "source": [
    "# 5. Create a customer profiling variable based on age, income and certain goods"
   ]
  },
  {
   "cell_type": "code",
   "execution_count": 37,
   "id": "e4a1af21-6ed9-4553-b656-6a367a3825be",
   "metadata": {},
   "outputs": [
    {
     "data": {
      "text/plain": [
       "count    921270.000000\n",
       "mean         49.484424\n",
       "std          18.508229\n",
       "min          18.000000\n",
       "25%          33.000000\n",
       "50%          49.000000\n",
       "75%          65.000000\n",
       "max          81.000000\n",
       "Name: Age, dtype: float64"
      ]
     },
     "execution_count": 37,
     "metadata": {},
     "output_type": "execute_result"
    }
   ],
   "source": [
    "df['Age'].describe()"
   ]
  },
  {
   "cell_type": "code",
   "execution_count": null,
   "id": "9a383d2c-cc71-4eb3-9c06-1fc92810f087",
   "metadata": {},
   "outputs": [],
   "source": [
    "# Young Adults: Ages 18 to 34 (inclusive)\n",
    "df.loc[(df['Age'] >= 18) & (df['Age'] <= 34), 'age_group'] = 'Young adults'"
   ]
  },
  {
   "cell_type": "code",
   "execution_count": null,
   "id": "4ebd8ade-f8ca-4e43-8704-28712e1a1ed4",
   "metadata": {},
   "outputs": [],
   "source": [
    "# Adults: Ages 35 to 64 (inclusive)\n",
    "df.loc[(df['Age'] >= 35) & (df['Age'] <= 64), 'age_group'] = 'Adults'"
   ]
  },
  {
   "cell_type": "code",
   "execution_count": null,
   "id": "af3c3baf-34f6-405a-bb9c-59b0b5fc5e40",
   "metadata": {},
   "outputs": [],
   "source": [
    "# Elderly Persons: Ages 65 and above\n",
    "df.loc[(df['Age'] >= 65), 'age_group'] = 'Elderly Adults'"
   ]
  },
  {
   "cell_type": "code",
   "execution_count": 39,
   "id": "916613a3-fa99-4097-94fa-b643fb82f6e1",
   "metadata": {},
   "outputs": [
    {
     "data": {
      "text/plain": [
       "count    921270.000000\n",
       "mean      99989.377622\n",
       "std       44934.372047\n",
       "min       25911.000000\n",
       "25%       66981.000000\n",
       "50%       96753.000000\n",
       "75%      128375.000000\n",
       "max      593901.000000\n",
       "Name: income, dtype: float64"
      ]
     },
     "execution_count": 39,
     "metadata": {},
     "output_type": "execute_result"
    }
   ],
   "source": [
    "df['income'].describe()"
   ]
  },
  {
   "cell_type": "markdown",
   "id": "599e60d7-137a-470f-ba21-8d09e09b5241",
   "metadata": {},
   "source": [
    "# 6. Creating visualization from the results"
   ]
  },
  {
   "cell_type": "code",
   "execution_count": null,
   "id": "1ea591aa-0634-4848-abc9-c9089042a8d7",
   "metadata": {},
   "outputs": [],
   "source": [
    "# Count unique user_ids for each age_group\n",
    "age_group_counts = df.groupby('age_group')['user_id'].nunique().sort_index()\n",
    "\n",
    "# Plot the bar graph with adjusted figure size\n",
    "plt.figure(figsize=(10, 8))  # Adjust the figure size to make it taller\n",
    "bar_1 = age_group_counts.plot.bar()\n",
    "bar_1.set_title('Number of Customers by Age Group')"
   ]
  },
  {
   "cell_type": "markdown",
   "id": "9c58e32e-e742-4a50-9b82-614b957e6413",
   "metadata": {},
   "source": [
    "#### Insight:\n",
    "\n",
    "Adults (35-64 years old) are the biggest group of customers in our database."
   ]
  },
  {
   "cell_type": "code",
   "execution_count": null,
   "id": "423b8c7b-b10f-4bec-b684-78213d961fc6",
   "metadata": {},
   "outputs": [],
   "source": []
  }
 ],
 "metadata": {
  "kernelspec": {
   "display_name": "Python 3 (ipykernel)",
   "language": "python",
   "name": "python3"
  },
  "language_info": {
   "codemirror_mode": {
    "name": "ipython",
    "version": 3
   },
   "file_extension": ".py",
   "mimetype": "text/x-python",
   "name": "python",
   "nbconvert_exporter": "python",
   "pygments_lexer": "ipython3",
   "version": "3.12.4"
  }
 },
 "nbformat": 4,
 "nbformat_minor": 5
}
